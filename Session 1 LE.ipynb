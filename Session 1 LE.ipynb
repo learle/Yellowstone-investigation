{
 "cells": [
  {
   "cell_type": "code",
   "execution_count": 3,
   "metadata": {},
   "outputs": [
    {
     "name": "stdout",
     "output_type": "stream",
     "text": [
      "5 17\n"
     ]
    }
   ],
   "source": [
    "def compare():\n",
    "    x = 5\n",
    "    y = 17\n",
    "    if x>y:\n",
    "        x = x*2\n",
    "    \n",
    "    print (x, y)\n",
    "\n",
    "compare()\n",
    "\n",
    "\n"
   ]
  },
  {
   "cell_type": "code",
   "execution_count": 2,
   "metadata": {},
   "outputs": [
    {
     "name": "stdout",
     "output_type": "stream",
     "text": [
      "10 17\n",
      "20 17\n"
     ]
    }
   ],
   "source": [
    "def compare1(x,y):\n",
    "    \n",
    "    if x < y:\n",
    "        x = x*2\n",
    "        print(x,y)\n",
    "        compare1(x,y)\n",
    "        \n",
    "compare1(5,17)\n"
   ]
  },
  {
   "cell_type": "code",
   "execution_count": 4,
   "metadata": {},
   "outputs": [
    {
     "name": "stdout",
     "output_type": "stream",
     "text": [
      "10 17\n",
      "20 17\n",
      "done\n"
     ]
    }
   ],
   "source": [
    "def compare1(x,y):\n",
    "    \n",
    "    if x < y:\n",
    "        x = x*2\n",
    "        print(x,y)\n",
    "        compare1(x,y)\n",
    "    else: print(\"done\")\n",
    "        \n",
    "compare1(5,17)"
   ]
  },
  {
   "cell_type": "code",
   "execution_count": 5,
   "metadata": {},
   "outputs": [],
   "source": [
    "def compare1(x,y):\n",
    "    \n",
    "    if x < y:\n",
    "        x = x*2\n",
    "        print(x,y)\n",
    "        compare1(x,y)\n",
    "    else: print(\"done\")\n",
    "    "
   ]
  },
  {
   "cell_type": "code",
   "execution_count": 6,
   "metadata": {},
   "outputs": [
    {
     "name": "stdout",
     "output_type": "stream",
     "text": [
      "done\n"
     ]
    }
   ],
   "source": [
    "compare1(10,2)"
   ]
  },
  {
   "cell_type": "code",
   "execution_count": 7,
   "metadata": {},
   "outputs": [
    {
     "name": "stdout",
     "output_type": "stream",
     "text": [
      "2 50\n",
      "4 50\n",
      "8 50\n",
      "16 50\n",
      "32 50\n",
      "64 50\n",
      "done\n"
     ]
    }
   ],
   "source": [
    "compare1(1,50)"
   ]
  },
  {
   "cell_type": "code",
   "execution_count": 8,
   "metadata": {},
   "outputs": [
    {
     "name": "stdout",
     "output_type": "stream",
     "text": [
      "0\n",
      "1\n",
      "2\n"
     ]
    }
   ],
   "source": [
    "for i in range(0,3):\n",
    "    print(i)"
   ]
  },
  {
   "cell_type": "code",
   "execution_count": 9,
   "metadata": {},
   "outputs": [
    {
     "name": "stdout",
     "output_type": "stream",
     "text": [
      "9\n",
      "8\n",
      "7\n",
      "6\n",
      "5\n",
      "4\n"
     ]
    }
   ],
   "source": [
    "for i in range (9, 3, -1):\n",
    "    print (i)"
   ]
  },
  {
   "cell_type": "code",
   "execution_count": 11,
   "metadata": {},
   "outputs": [
    {
     "name": "stdout",
     "output_type": "stream",
     "text": [
      "0\n",
      "2\n",
      "4\n",
      "6\n",
      "8\n"
     ]
    }
   ],
   "source": [
    "for i in range (0, 10, 2):\n",
    "    print (i)"
   ]
  },
  {
   "cell_type": "code",
   "execution_count": 14,
   "metadata": {},
   "outputs": [
    {
     "name": "stdout",
     "output_type": "stream",
     "text": [
      "roll\n",
      "crisps\n",
      "fruit\n",
      "chocolate\n",
      "jelly\n",
      "tea\n"
     ]
    }
   ],
   "source": [
    "lunchbox = ['roll', 'crisps', 'fruit', 'chocolate', 'jelly', 'tea']  #use square brackets for lists\n",
    "for l in lunchbox:\n",
    "    print(l)"
   ]
  },
  {
   "cell_type": "code",
   "execution_count": 16,
   "metadata": {},
   "outputs": [
    {
     "name": "stdout",
     "output_type": "stream",
     "text": [
      "no lunch\n"
     ]
    }
   ],
   "source": [
    "lunchbox1 = []\n",
    "for l in lunchbox1:\n",
    "    print(l)\n",
    "else:\n",
    "    print(\"no lunch\")"
   ]
  },
  {
   "cell_type": "code",
   "execution_count": 17,
   "metadata": {},
   "outputs": [
    {
     "name": "stdout",
     "output_type": "stream",
     "text": [
      "10 17\n",
      "20 17\n"
     ]
    }
   ],
   "source": [
    "def compare(x,y):\n",
    "    if x<y:\n",
    "        x = x*2\n",
    "        print(x,y)\n",
    "        compare(x,y)\n",
    "        \n",
    "compare(5,17)"
   ]
  },
  {
   "cell_type": "code",
   "execution_count": 18,
   "metadata": {},
   "outputs": [
    {
     "name": "stdout",
     "output_type": "stream",
     "text": [
      "10 17\n",
      "20 17\n"
     ]
    }
   ],
   "source": [
    "def compare2(x,y):\n",
    "    while x < y:\n",
    "        x = x*2\n",
    "        print(x,y)\n",
    "        \n",
    "compare2(5,17)"
   ]
  },
  {
   "cell_type": "code",
   "execution_count": 14,
   "metadata": {},
   "outputs": [
    {
     "name": "stdout",
     "output_type": "stream",
     "text": [
      "Solve all your quadratic issues here\n",
      "\n",
      "Enter the coefficients a,b,c separated by commas: 3,12,4\n",
      "Input is  3,12,4\n",
      "input is  ['3', '12', '4'] <class 'list'>\n",
      "ass is of type <class 'str'>\n",
      "a is of type <class 'int'>\n",
      "3\n",
      "12\n",
      "4\n",
      "\n",
      "\n",
      " the solutions are:  -0.3670068381445481 -3.632993161855452\n"
     ]
    }
   ],
   "source": [
    "import math\n",
    "\n",
    "def main():\n",
    "    print(\"Solve all your quadratic issues here\\n\")\n",
    "    user_input = input(\"Enter the coefficients a,b,c separated by commas: \")\n",
    "    print(\"Input is \", user_input)\n",
    "    input_list = user_input.split(',')\n",
    "    \n",
    "    print(\"input is \", input_list, type(input_list))\n",
    "    ass, bss, css = input_list[0], input_list[1], input_list[2]\n",
    "    print(\"ass is of type\",type(ass))\n",
    "    \n",
    "    a = int(ass)\n",
    "    b = int(bss)\n",
    "    c = int(css)\n",
    "    print(\"a is of type\",type(a))\n",
    "    \n",
    "    print(a)\n",
    "    print(b)\n",
    "    print(c)\n",
    "    \n",
    "    discrim = b*b -4*a*c\n",
    "    if discrim < 0:\n",
    "        print(\"There is no real number solution!\")\n",
    "    else:\n",
    "        discRoot = math.sqrt(b*b - 4*a*c)\n",
    "        root1 = (-b + discRoot) / (2*a)\n",
    "        root2 = (-b - discRoot) / (2*a)\n",
    "        \n",
    "        print(\"\\n\\n the solutions are: \", root1, root2)\n",
    "\n",
    "main()   \n"
   ]
  },
  {
   "cell_type": "code",
   "execution_count": 15,
   "metadata": {},
   "outputs": [
    {
     "data": {
      "text/plain": [
       "'math'"
      ]
     },
     "execution_count": 15,
     "metadata": {},
     "output_type": "execute_result"
    }
   ],
   "source": [
    "import math\n",
    "math.__name__ # 2 underbars for inbuilt stuff"
   ]
  },
  {
   "cell_type": "code",
   "execution_count": 16,
   "metadata": {},
   "outputs": [
    {
     "data": {
      "text/plain": [
       "'__main__'"
      ]
     },
     "execution_count": 16,
     "metadata": {},
     "output_type": "execute_result"
    }
   ],
   "source": [
    "__name__"
   ]
  },
  {
   "cell_type": "code",
   "execution_count": 22,
   "metadata": {},
   "outputs": [
    {
     "ename": "SyntaxError",
     "evalue": "unexpected EOF while parsing (<ipython-input-22-aafd906f9815>, line 33)",
     "output_type": "error",
     "traceback": [
      "\u001b[1;36m  File \u001b[1;32m\"<ipython-input-22-aafd906f9815>\"\u001b[1;36m, line \u001b[1;32m33\u001b[0m\n\u001b[1;33m    \u001b[0m\n\u001b[1;37m    ^\u001b[0m\n\u001b[1;31mSyntaxError\u001b[0m\u001b[1;31m:\u001b[0m unexpected EOF while parsing\n"
     ]
    }
   ],
   "source": [
    "import math\n",
    "\n",
    "def main():\n",
    "    print(\"Solve all your quadratic issues here\\n\")\n",
    "    user_input = input(\"Enter the coefficients a,b,c separated by commas: \")\n",
    "    print(\"Input is \", user_input)\n",
    "    input_list = user_input.split(',')\n",
    "    \n",
    "    print(\"input is \", input_list, type(input_list))\n",
    "    ass, bss, css = input_list[0], input_list[1], input_list[2]\n",
    "    print(\"ass is of type\",type(ass))\n",
    "    \n",
    "    a = int(ass)\n",
    "    b = int(bss)\n",
    "    c = int(css)\n",
    "    print(\"a is of type\",type(a))\n",
    "    \n",
    "    print(a)\n",
    "    print(b)\n",
    "    print(c)\n",
    "    \n",
    "    discrim = b*b -4*a*c\n",
    "    if discrim < 0:\n",
    "        print(\"There is no real number solution!\")\n",
    "    else:\n",
    "        discRoot = math.sqrt(b*b - 4*a*c)\n",
    "        root1 = (-b + discRoot) / (2*a)\n",
    "        root2 = (-b - discRoot) / (2*a)\n",
    "        \n",
    "        print(\"\\n\\n the solutions are: \", root1, root2)\n",
    "        \n",
    "    if __name__ =='__main__':\n",
    "    "
   ]
  },
  {
   "cell_type": "code",
   "execution_count": 21,
   "metadata": {},
   "outputs": [
    {
     "name": "stdout",
     "output_type": "stream",
     "text": [
      "{'green': 'go', 'amber': 'be ready', 'red': 'stop', 'colour': 'action'}\n"
     ]
    },
    {
     "data": {
      "text/plain": [
       "dict_keys(['green', 'amber', 'red', 'colour'])"
      ]
     },
     "execution_count": 21,
     "metadata": {},
     "output_type": "execute_result"
    }
   ],
   "source": [
    "t_light = {'green':'go','amber':'be ready', 'red':'stop'}\n",
    "t_light.keys()\n",
    "\n",
    "t_light['colour'] ='action'\n",
    "print(t_light)\n",
    "\n",
    "t_light.keys()\n"
   ]
  },
  {
   "cell_type": "code",
   "execution_count": null,
   "metadata": {},
   "outputs": [],
   "source": []
  }
 ],
 "metadata": {
  "kernelspec": {
   "display_name": "Python 3",
   "language": "python",
   "name": "python3"
  },
  "language_info": {
   "codemirror_mode": {
    "name": "ipython",
    "version": 3
   },
   "file_extension": ".py",
   "mimetype": "text/x-python",
   "name": "python",
   "nbconvert_exporter": "python",
   "pygments_lexer": "ipython3",
   "version": "3.6.5"
  }
 },
 "nbformat": 4,
 "nbformat_minor": 2
}
